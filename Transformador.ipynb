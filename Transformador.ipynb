{
 "cells": [
  {
   "cell_type": "code",
   "execution_count": null,
   "id": "79e91851",
   "metadata": {},
   "outputs": [],
   "source": [
    "import os\n",
    "import subprocess\n"
   ]
  },
  {
   "cell_type": "code",
   "execution_count": null,
   "id": "b28f1150",
   "metadata": {},
   "outputs": [],
   "source": [
    "\n",
    "# Configuración de rutas y dimensiones objetivo\n",
    "input_folder = 'D:\\\\la-u\\\\ciclo 2025-1\\\\Seminario\\\\Dataset_FULLHD\\\\Dataset_FULLHD'      # Carpeta raíz con las subcarpetas de videos\n",
    "output_folder = 'D:\\\\la-u\\\\ciclo 2025-1\\\\Seminario\\\\DATASET_HD'  # Carpeta donde se guardarán los videos procesados\n",
    "target_width = 478\n",
    "target_height = 850\n"
   ]
  },
  {
   "cell_type": "code",
   "execution_count": null,
   "id": "5a85d526",
   "metadata": {},
   "outputs": [],
   "source": [
    "# Recorremos recursivamente la estructura de directorios de input_folder\n",
    "for root, dirs, files in os.walk(input_folder):\n",
    "    for file in files:\n",
    "        if file.lower().endswith('.mp4'):\n",
    "            # Construir ruta completa del archivo de entrada\n",
    "            input_path = os.path.join(root, file)\n",
    "            \n",
    "            # Obtener la ruta relativa para recrear la estructura en output_folder\n",
    "            relative_path = os.path.relpath(root, input_folder)\n",
    "            output_dir = os.path.join(output_folder, relative_path)\n",
    "            os.makedirs(output_dir, exist_ok=True)\n",
    "            \n",
    "            # Ruta completa del archivo de salida\n",
    "            output_path = os.path.join(output_dir, file)\n",
    "            \n",
    "            # Comando ffmpeg para redimensionar el video.\n",
    "            # Se usa el filtro scale para cambiar a 478x850 y se copia el audio (-c:a copy)\n",
    "            cmd = [\n",
    "                'ffmpeg',\n",
    "                '-i', input_path,\n",
    "                '-vf', f'scale={target_width}:{target_height}',\n",
    "                '-c:a', 'copy',\n",
    "                output_path\n",
    "            ]\n",
    "            \n",
    "            print(f\"Procesando: {input_path}\")\n",
    "            # Ejecutamos el comando\n",
    "            subprocess.run(cmd, check=True)\n",
    "\n",
    "print(\"Todos los videos han sido procesados.\")"
   ]
  }
 ],
 "metadata": {
  "kernelspec": {
   "display_name": "tesis",
   "language": "python",
   "name": "python3"
  },
  "language_info": {
   "name": "python",
   "version": "3.12.9"
  }
 },
 "nbformat": 4,
 "nbformat_minor": 5
}
