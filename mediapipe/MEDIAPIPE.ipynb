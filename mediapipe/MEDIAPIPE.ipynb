{
 "cells": [
  {
   "cell_type": "code",
   "execution_count": 6,
   "id": "4f6f5bf2",
   "metadata": {},
   "outputs": [
    {
     "data": {
      "text/plain": [
       "39"
      ]
     },
     "execution_count": 6,
     "metadata": {},
     "output_type": "execute_result"
    }
   ],
   "source": [
    "import csv\n",
    "import cv2\n",
    "import mediapipe as mp\n",
    "from mediapipe.tasks import python\n",
    "from mediapipe.tasks.python import vision\n",
    "model_path = 'D:/la-u/ciclo 2025-1/TPI/MODELO/Keypoints/mediaPipe/pose_landmarker_heavy.task'\n",
    "\n",
    "\n",
    "BaseOptions = mp.tasks.BaseOptions\n",
    "PoseLandmarker = mp.tasks.vision.PoseLandmarker\n",
    "PoseLandmarkerOptions = mp.tasks.vision.PoseLandmarkerOptions\n",
    "VisionRunningMode = mp.tasks.vision.RunningMode\n",
    "\n",
    "options = PoseLandmarkerOptions(\n",
    "    base_options=BaseOptions(model_asset_path=model_path),\n",
    "    running_mode=VisionRunningMode.VIDEO)\n",
    "\n",
    "\n",
    "landmarker = PoseLandmarker.create_from_options(options)\n",
    "\n",
    "cap = cv2.VideoCapture('D:/la-u/ciclo 2025-1/TPI/MODELO/Video pruba/luis2.mp4')\n",
    "frame_count = 0\n",
    "\n",
    "\n",
    "csv_file = open('keypoints_output.csv', 'w', newline='')\n",
    "csv_writer = csv.writer(csv_file)\n",
    "csv_writer.writerow(['frame', 'landmark_index', 'x', 'y', 'z', 'visibility'])\n"
   ]
  },
  {
   "cell_type": "code",
   "execution_count": 7,
   "id": "c0606342",
   "metadata": {},
   "outputs": [],
   "source": [
    "while cap.isOpened():\n",
    "    ret, frame = cap.read()\n",
    "    if not ret:\n",
    "        break\n",
    "    \n",
    "    frame_rgb = cv2.cvtColor(frame, cv2.COLOR_BGR2RGB)\n",
    "    \n",
    "    mp_image = mp.Image(image_format=mp.ImageFormat.SRGB, data=frame_rgb)\n",
    "    fps = cap.get(cv2.CAP_PROP_FPS) \n",
    "    timestamp_ms = int((frame_count / fps) * 1000)\n",
    "    \n",
    "    # Detectar los keypoints en el frame actual\n",
    "    results = landmarker.detect_for_video(mp_image, timestamp_ms)\n",
    "    \n",
    "    if results.pose_landmarks:\n",
    "        for pose in results.pose_landmarks:\n",
    "            for landmark in pose:\n",
    "                # Convertir coordenadas normalizadas a pixeles\n",
    "                h, w, _ = frame.shape\n",
    "                x = int(landmark.x * w)\n",
    "                y = int(landmark.y * h)\n",
    "                cv2.circle(frame, (x, y), 5, (0, 255, 0), -1)\n",
    "        for pose_index, pose in enumerate(results.pose_landmarks):\n",
    "            for idx, landmark in enumerate(pose):\n",
    "                csv_writer.writerow([\n",
    "                    frame_count,  # el número de frame\n",
    "                    idx,          # índice del keypoint (0-32 para pose)\n",
    "                    landmark.x,\n",
    "                    landmark.y,\n",
    "                    landmark.z,\n",
    "                    landmark.visibility\n",
    "                    ])\n",
    "\n",
    "\n",
    "    # Mostrar el frame procesado\n",
    "    cv2.imshow('Detección de Pose', frame)\n",
    "    frame_count += 1\n",
    "\n",
    "    # Salir si se presiona la tecla 'q'\n",
    "    if cv2.waitKey(1) & 0xFF == ord('q'):\n",
    "        break\n",
    "\n",
    "# Liberar recursos\n",
    "cap.release()\n",
    "cv2.destroyAllWindows()\n"
   ]
  }
 ],
 "metadata": {
  "kernelspec": {
   "display_name": "base",
   "language": "python",
   "name": "python3"
  },
  "language_info": {
   "codemirror_mode": {
    "name": "ipython",
    "version": 3
   },
   "file_extension": ".py",
   "mimetype": "text/x-python",
   "name": "python",
   "nbconvert_exporter": "python",
   "pygments_lexer": "ipython3",
   "version": "3.12.7"
  }
 },
 "nbformat": 4,
 "nbformat_minor": 5
}
