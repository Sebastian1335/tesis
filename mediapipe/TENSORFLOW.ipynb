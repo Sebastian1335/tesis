{
 "cells": [
  {
   "cell_type": "code",
   "execution_count": 7,
   "id": "2656e87a",
   "metadata": {},
   "outputs": [
    {
     "name": "stdout",
     "output_type": "stream",
     "text": [
      "Note: you may need to restart the kernel to use updated packages.\n"
     ]
    }
   ],
   "source": [
    "%pip install -q git+https://github.com/tensorflow/docs"
   ]
  },
  {
   "cell_type": "code",
   "execution_count": 7,
   "id": "13968fe9",
   "metadata": {},
   "outputs": [
    {
     "name": "stdout",
     "output_type": "stream",
     "text": [
      "Tensorflow version 2.19.0\n"
     ]
    }
   ],
   "source": [
    "import tensorflow as tf\n",
    "import tensorflow_hub as hub\n",
    "import numpy as np\n",
    "from tensorflow_docs.vis import embed\n",
    "import cv2\n",
    "import csv\n",
    "\n",
    "print(\"Tensorflow version\", tf.__version__)"
   ]
  },
  {
   "cell_type": "code",
   "execution_count": 8,
   "id": "4dabdd1f",
   "metadata": {},
   "outputs": [],
   "source": [
    "# Cargar el modelo MoveNet desde TensorFlow Hub\n",
    "model = hub.load(\"https://tfhub.dev/google/movenet/singlepose/lightning/4\")\n",
    "\n",
    "# Definir el tamaño de entrada requerido por el modelo (192x192 para la variante lightning)\n",
    "input_size = 192"
   ]
  },
  {
   "cell_type": "code",
   "execution_count": 3,
   "id": "0b997734",
   "metadata": {},
   "outputs": [],
   "source": [
    "def run_inference(image):\n",
    "    # Redimensionar la imagen manteniendo la proporción y añadir padding para obtener 192x192\n",
    "    img = tf.image.resize_with_pad(tf.expand_dims(image, axis=0), input_size, input_size)\n",
    "    \n",
    "    # Convertir la imagen a int32 (tipo requerido por el modelo MoveNet)\n",
    "    input_img = tf.cast(img, dtype=tf.int32)\n",
    "    \n",
    "    # Ejecutar la inferencia llamando directamente a la firma \"serving_default\"\n",
    "    outputs = model.signatures['serving_default'](input_img)\n",
    "    \n",
    "    # La salida tiene la clave 'output_0' con forma [1, 1, 17, 3]\n",
    "    keypoints = outputs['output_0'].numpy()\n",
    "    return keypoints[0, 0, :, :]  # Devuelve un array de shape [17, 3]\n"
   ]
  },
  {
   "cell_type": "code",
   "execution_count": 6,
   "id": "63496a2a",
   "metadata": {},
   "outputs": [
    {
     "ename": "TypeError",
     "evalue": "run_inference() missing 3 required positional arguments: 'image', 'crop_region', and 'crop_size'",
     "output_type": "error",
     "traceback": [
      "\u001b[31m---------------------------------------------------------------------------\u001b[39m",
      "\u001b[31mTypeError\u001b[39m                                 Traceback (most recent call last)",
      "\u001b[36mCell\u001b[39m\u001b[36m \u001b[39m\u001b[32mIn[6]\u001b[39m\u001b[32m, line 22\u001b[39m\n\u001b[32m     19\u001b[39m frame_rgb = cv2.cvtColor(frame, cv2.COLOR_BGR2RGB)\n\u001b[32m     21\u001b[39m \u001b[38;5;66;03m# Ejecutar la inferencia para obtener los keypoints\u001b[39;00m\n\u001b[32m---> \u001b[39m\u001b[32m22\u001b[39m keypoints = \u001b[43mrun_inference\u001b[49m\u001b[43m(\u001b[49m\u001b[43mframe_rgb\u001b[49m\u001b[43m)\u001b[49m\n\u001b[32m     24\u001b[39m \u001b[38;5;66;03m# Obtener dimensiones del frame original\u001b[39;00m\n\u001b[32m     25\u001b[39m height, width, _ = frame.shape\n",
      "\u001b[31mTypeError\u001b[39m: run_inference() missing 3 required positional arguments: 'image', 'crop_region', and 'crop_size'"
     ]
    }
   ],
   "source": [
    "# Ruta del video a procesar (modifica la ruta según tu sistema)\n",
    "video_path = 'D:\\\\la-u\\\\ciclo 2025-1\\\\Seminario\\\\MODELO\\\\Video pruba\\\\luis2.mp4'\n",
    "cap = cv2.VideoCapture(video_path)\n",
    "\n",
    "# Crear archivo CSV para guardar los keypoints\n",
    "csv_file = open('keypoints_output.csv', 'w', newline='')\n",
    "csv_writer = csv.writer(csv_file)\n",
    "csv_writer.writerow(['frame', 'keypoint_index', 'y', 'x', 'score'])\n",
    "\n",
    "frame_count = 0\n",
    "fps = cap.get(cv2.CAP_PROP_FPS)\n",
    "\n",
    "while cap.isOpened():\n",
    "    ret, frame = cap.read()\n",
    "    if not ret:\n",
    "        break\n",
    "\n",
    "    # Convertir el frame de BGR (por defecto en OpenCV) a RGB\n",
    "    frame_rgb = cv2.cvtColor(frame, cv2.COLOR_BGR2RGB)\n",
    "    \n",
    "    # Ejecutar la inferencia para obtener los keypoints\n",
    "    keypoints = run_inference(frame_rgb)\n",
    "    \n",
    "    # Obtener dimensiones del frame original\n",
    "    height, width, _ = frame.shape\n",
    "    \n",
    "    # Dibujar y guardar cada keypoint\n",
    "    for idx, keypoint in enumerate(keypoints):\n",
    "        y, x, score = keypoint\n",
    "        cx, cy = int(x * width), int(y * height)\n",
    "        \n",
    "        # Dibujar el keypoint si su score es mayor que el umbral (0.2)\n",
    "        if score > 0.2:\n",
    "            cv2.circle(frame, (cx, cy), 5, (0, 255, 0), -1)\n",
    "        \n",
    "        # Guardar información del keypoint en el CSV\n",
    "        csv_writer.writerow([frame_count, idx, y, x, score])\n",
    "    \n",
    "    # Mostrar el frame con la detección de pose\n",
    "    cv2.imshow('Detección de Pose con MoveNet', frame)\n",
    "    frame_count += 1\n",
    "    \n",
    "    if cv2.waitKey(1) & 0xFF == ord('q'):\n",
    "        break\n",
    "\n",
    "cap.release()\n",
    "cv2.destroyAllWindows()\n",
    "csv_file.close()\n",
    "print(\"Procesamiento completado.\")"
   ]
  }
 ],
 "metadata": {
  "kernelspec": {
   "display_name": "tesis",
   "language": "python",
   "name": "python3"
  },
  "language_info": {
   "codemirror_mode": {
    "name": "ipython",
    "version": 3
   },
   "file_extension": ".py",
   "mimetype": "text/x-python",
   "name": "python",
   "nbconvert_exporter": "python",
   "pygments_lexer": "ipython3",
   "version": "3.12.9"
  }
 },
 "nbformat": 4,
 "nbformat_minor": 5
}
