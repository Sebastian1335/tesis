{
 "cells": [
  {
   "cell_type": "code",
   "execution_count": 3,
   "id": "ae22a9ff",
   "metadata": {},
   "outputs": [
    {
     "name": "stdout",
     "output_type": "stream",
     "text": [
      "Requirement already satisfied: ultralytics in c:\\users\\user\\anaconda3\\envs\\tesis\\lib\\site-packages (8.3.104)\n",
      "Requirement already satisfied: numpy<=2.1.1,>=1.23.0 in c:\\users\\user\\anaconda3\\envs\\tesis\\lib\\site-packages (from ultralytics) (2.1.1)\n",
      "Requirement already satisfied: matplotlib>=3.3.0 in c:\\users\\user\\anaconda3\\envs\\tesis\\lib\\site-packages (from ultralytics) (3.10.1)\n",
      "Requirement already satisfied: opencv-python>=4.6.0 in c:\\users\\user\\anaconda3\\envs\\tesis\\lib\\site-packages (from ultralytics) (4.11.0.86)\n",
      "Requirement already satisfied: pillow>=7.1.2 in c:\\users\\user\\anaconda3\\envs\\tesis\\lib\\site-packages (from ultralytics) (11.1.0)\n",
      "Requirement already satisfied: pyyaml>=5.3.1 in c:\\users\\user\\anaconda3\\envs\\tesis\\lib\\site-packages (from ultralytics) (6.0.2)\n",
      "Requirement already satisfied: requests>=2.23.0 in c:\\users\\user\\anaconda3\\envs\\tesis\\lib\\site-packages (from ultralytics) (2.32.3)\n",
      "Requirement already satisfied: scipy>=1.4.1 in c:\\users\\user\\anaconda3\\envs\\tesis\\lib\\site-packages (from ultralytics) (1.15.2)\n",
      "Requirement already satisfied: torch>=1.8.0 in c:\\users\\user\\anaconda3\\envs\\tesis\\lib\\site-packages (from ultralytics) (2.6.0)\n",
      "Requirement already satisfied: torchvision>=0.9.0 in c:\\users\\user\\anaconda3\\envs\\tesis\\lib\\site-packages (from ultralytics) (0.21.0)\n",
      "Requirement already satisfied: tqdm>=4.64.0 in c:\\users\\user\\anaconda3\\envs\\tesis\\lib\\site-packages (from ultralytics) (4.67.1)\n",
      "Requirement already satisfied: psutil in c:\\users\\user\\anaconda3\\envs\\tesis\\lib\\site-packages (from ultralytics) (5.9.0)\n",
      "Requirement already satisfied: py-cpuinfo in c:\\users\\user\\anaconda3\\envs\\tesis\\lib\\site-packages (from ultralytics) (9.0.0)\n",
      "Requirement already satisfied: pandas>=1.1.4 in c:\\users\\user\\anaconda3\\envs\\tesis\\lib\\site-packages (from ultralytics) (2.2.3)\n",
      "Requirement already satisfied: seaborn>=0.11.0 in c:\\users\\user\\anaconda3\\envs\\tesis\\lib\\site-packages (from ultralytics) (0.13.2)\n",
      "Requirement already satisfied: ultralytics-thop>=2.0.0 in c:\\users\\user\\anaconda3\\envs\\tesis\\lib\\site-packages (from ultralytics) (2.0.14)\n",
      "Requirement already satisfied: contourpy>=1.0.1 in c:\\users\\user\\anaconda3\\envs\\tesis\\lib\\site-packages (from matplotlib>=3.3.0->ultralytics) (1.3.1)\n",
      "Requirement already satisfied: cycler>=0.10 in c:\\users\\user\\anaconda3\\envs\\tesis\\lib\\site-packages (from matplotlib>=3.3.0->ultralytics) (0.12.1)\n",
      "Requirement already satisfied: fonttools>=4.22.0 in c:\\users\\user\\anaconda3\\envs\\tesis\\lib\\site-packages (from matplotlib>=3.3.0->ultralytics) (4.57.0)\n",
      "Requirement already satisfied: kiwisolver>=1.3.1 in c:\\users\\user\\anaconda3\\envs\\tesis\\lib\\site-packages (from matplotlib>=3.3.0->ultralytics) (1.4.8)\n",
      "Requirement already satisfied: packaging>=20.0 in c:\\users\\user\\anaconda3\\envs\\tesis\\lib\\site-packages (from matplotlib>=3.3.0->ultralytics) (24.2)\n",
      "Requirement already satisfied: pyparsing>=2.3.1 in c:\\users\\user\\anaconda3\\envs\\tesis\\lib\\site-packages (from matplotlib>=3.3.0->ultralytics) (3.2.3)\n",
      "Requirement already satisfied: python-dateutil>=2.7 in c:\\users\\user\\anaconda3\\envs\\tesis\\lib\\site-packages (from matplotlib>=3.3.0->ultralytics) (2.9.0.post0)\n",
      "Requirement already satisfied: pytz>=2020.1 in c:\\users\\user\\anaconda3\\envs\\tesis\\lib\\site-packages (from pandas>=1.1.4->ultralytics) (2025.2)\n",
      "Requirement already satisfied: tzdata>=2022.7 in c:\\users\\user\\anaconda3\\envs\\tesis\\lib\\site-packages (from pandas>=1.1.4->ultralytics) (2025.2)\n",
      "Requirement already satisfied: charset-normalizer<4,>=2 in c:\\users\\user\\anaconda3\\envs\\tesis\\lib\\site-packages (from requests>=2.23.0->ultralytics) (3.4.1)\n",
      "Requirement already satisfied: idna<4,>=2.5 in c:\\users\\user\\anaconda3\\envs\\tesis\\lib\\site-packages (from requests>=2.23.0->ultralytics) (3.10)\n",
      "Requirement already satisfied: urllib3<3,>=1.21.1 in c:\\users\\user\\anaconda3\\envs\\tesis\\lib\\site-packages (from requests>=2.23.0->ultralytics) (2.3.0)\n",
      "Requirement already satisfied: certifi>=2017.4.17 in c:\\users\\user\\anaconda3\\envs\\tesis\\lib\\site-packages (from requests>=2.23.0->ultralytics) (2025.1.31)\n",
      "Requirement already satisfied: filelock in c:\\users\\user\\anaconda3\\envs\\tesis\\lib\\site-packages (from torch>=1.8.0->ultralytics) (3.18.0)\n",
      "Requirement already satisfied: typing-extensions>=4.10.0 in c:\\users\\user\\anaconda3\\envs\\tesis\\lib\\site-packages (from torch>=1.8.0->ultralytics) (4.13.1)\n",
      "Requirement already satisfied: networkx in c:\\users\\user\\anaconda3\\envs\\tesis\\lib\\site-packages (from torch>=1.8.0->ultralytics) (3.4.2)\n",
      "Requirement already satisfied: jinja2 in c:\\users\\user\\anaconda3\\envs\\tesis\\lib\\site-packages (from torch>=1.8.0->ultralytics) (3.1.6)\n",
      "Requirement already satisfied: fsspec in c:\\users\\user\\anaconda3\\envs\\tesis\\lib\\site-packages (from torch>=1.8.0->ultralytics) (2025.3.2)\n",
      "Requirement already satisfied: setuptools in c:\\users\\user\\anaconda3\\envs\\tesis\\lib\\site-packages (from torch>=1.8.0->ultralytics) (75.8.0)\n",
      "Requirement already satisfied: sympy==1.13.1 in c:\\users\\user\\anaconda3\\envs\\tesis\\lib\\site-packages (from torch>=1.8.0->ultralytics) (1.13.1)\n",
      "Requirement already satisfied: mpmath<1.4,>=1.1.0 in c:\\users\\user\\anaconda3\\envs\\tesis\\lib\\site-packages (from sympy==1.13.1->torch>=1.8.0->ultralytics) (1.3.0)\n",
      "Requirement already satisfied: colorama in c:\\users\\user\\anaconda3\\envs\\tesis\\lib\\site-packages (from tqdm>=4.64.0->ultralytics) (0.4.6)\n",
      "Requirement already satisfied: six>=1.5 in c:\\users\\user\\anaconda3\\envs\\tesis\\lib\\site-packages (from python-dateutil>=2.7->matplotlib>=3.3.0->ultralytics) (1.17.0)\n",
      "Requirement already satisfied: MarkupSafe>=2.0 in c:\\users\\user\\anaconda3\\envs\\tesis\\lib\\site-packages (from jinja2->torch>=1.8.0->ultralytics) (3.0.2)\n",
      "Note: you may need to restart the kernel to use updated packages.\n"
     ]
    }
   ],
   "source": [
    "%pip install ultralytics"
   ]
  },
  {
   "cell_type": "code",
   "execution_count": 1,
   "id": "6a4b42cb",
   "metadata": {},
   "outputs": [],
   "source": [
    "import cv2\n",
    "import csv\n",
    "import numpy as np\n",
    "from ultralytics import YOLO\n"
   ]
  },
  {
   "cell_type": "code",
   "execution_count": 5,
   "id": "474f0c52",
   "metadata": {},
   "outputs": [],
   "source": [
    "model = YOLO(\"yolo11n-pose.pt\")"
   ]
  },
  {
   "cell_type": "code",
   "execution_count": 2,
   "id": "dc48f519",
   "metadata": {},
   "outputs": [
    {
     "name": "stderr",
     "output_type": "stream",
     "text": [
      "<>:1: SyntaxWarning: invalid escape sequence '\\l'\n",
      "<>:1: SyntaxWarning: invalid escape sequence '\\l'\n",
      "C:\\Users\\user\\AppData\\Local\\Temp\\ipykernel_21268\\403168370.py:1: SyntaxWarning: invalid escape sequence '\\l'\n",
      "  results = model(source='D:\\la-u\\ciclo 2025-1\\Seminario\\MODELO\\Video pruba\\luis2.mp4', show=True, conf=0.3, save=True)\n",
      "C:\\Users\\user\\AppData\\Local\\Temp\\ipykernel_21268\\403168370.py:1: SyntaxWarning: invalid escape sequence '\\l'\n",
      "  results = model(source='D:\\la-u\\ciclo 2025-1\\Seminario\\MODELO\\Video pruba\\luis2.mp4', show=True, conf=0.3, save=True)\n"
     ]
    },
    {
     "ename": "NameError",
     "evalue": "name 'model' is not defined",
     "output_type": "error",
     "traceback": [
      "\u001b[31m---------------------------------------------------------------------------\u001b[39m",
      "\u001b[31mNameError\u001b[39m                                 Traceback (most recent call last)",
      "\u001b[36mCell\u001b[39m\u001b[36m \u001b[39m\u001b[32mIn[2]\u001b[39m\u001b[32m, line 1\u001b[39m\n\u001b[32m----> \u001b[39m\u001b[32m1\u001b[39m results = \u001b[43mmodel\u001b[49m(source=\u001b[33m'\u001b[39m\u001b[33mD:\u001b[39m\u001b[33m\\\u001b[39m\u001b[33mla-u\u001b[39m\u001b[33m\\\u001b[39m\u001b[33mciclo 2025-1\u001b[39m\u001b[33m\\\u001b[39m\u001b[33mSeminario\u001b[39m\u001b[33m\\\u001b[39m\u001b[33mMODELO\u001b[39m\u001b[33m\\\u001b[39m\u001b[33mVideo pruba\u001b[39m\u001b[33m\\\u001b[39m\u001b[33mluis2.mp4\u001b[39m\u001b[33m'\u001b[39m, show=\u001b[38;5;28;01mTrue\u001b[39;00m, conf=\u001b[32m0.3\u001b[39m, save=\u001b[38;5;28;01mTrue\u001b[39;00m)\n",
      "\u001b[31mNameError\u001b[39m: name 'model' is not defined"
     ]
    }
   ],
   "source": [
    "results = model(source='D:\\la-u\\ciclo 2025-1\\Seminario\\MODELO\\Video pruba\\luis2.mp4', show=True, conf=0.3, save=True)\n",
    "\n"
   ]
  },
  {
   "cell_type": "code",
   "execution_count": 10,
   "id": "aa246651",
   "metadata": {},
   "outputs": [
    {
     "name": "stdout",
     "output_type": "stream",
     "text": [
      "Procesamiento completado.\n"
     ]
    }
   ],
   "source": [
    "# Ruta del video a procesar (modifica la ruta según tu sistema)\n",
    "video_path = 'D:\\\\la-u\\\\ciclo 2025-1\\\\Seminario\\\\MODELO\\\\Video pruba\\\\luis3.mp4'\n",
    "cap = cv2.VideoCapture(video_path)\n",
    "\n",
    "# Crear archivo CSV para guardar los keypoints\n",
    "csv_file = open('keypoints_output_yolo.csv', 'w', newline='')\n",
    "csv_writer = csv.writer(csv_file)\n",
    "csv_writer.writerow(['frame', 'persona_index', 'keypoint_index', 'x', 'y', 'confidence'])\n",
    "\n",
    "frame_count = 0\n",
    "umbral_conf = 0.2  # Umbral para dibujar keypoints\n",
    "\n",
    "while cap.isOpened():\n",
    "    ret, frame = cap.read()\n",
    "    if not ret:\n",
    "        break\n",
    "\n",
    "    # Ejecutar la detección en el frame\n",
    "    results = model(frame, verbose=False)\n",
    "    \n",
    "    # Procesar el primer resultado (para el frame actual)\n",
    "    if len(results) > 0:\n",
    "        result = results[0]\n",
    "        \n",
    "        if result.keypoints is not None:\n",
    "            for person_idx, person_kpts in enumerate(result.keypoints):\n",
    "                # Extraer las coordenadas y confianzas\n",
    "                # person_kpts.xy: coordenadas, person_kpts.conf: confianzas\n",
    "                if hasattr(person_kpts.xy, 'cpu'):\n",
    "                    kpts_xy = person_kpts.xy.cpu().numpy()\n",
    "                else:\n",
    "                    kpts_xy = person_kpts.xy\n",
    "                if hasattr(person_kpts.conf, 'cpu'):\n",
    "                    kpts_conf = person_kpts.conf.cpu().numpy()\n",
    "                else:\n",
    "                    kpts_conf = person_kpts.conf\n",
    "\n",
    "                # Verificar el número de dimensiones y combinar las coordenadas y la confianza\n",
    "                if kpts_xy.ndim == 3:\n",
    "                    # Si kpts_xy tiene forma (1, N, 2) y kpts_conf (1, N), concatenamos a lo largo del eje 2\n",
    "                    keypoints_arr = np.concatenate([kpts_xy, np.expand_dims(kpts_conf, axis=-1)], axis=2)\n",
    "                    keypoints_arr = keypoints_arr.squeeze(0)  # Queda de forma (N,3)\n",
    "                elif kpts_xy.ndim == 2:\n",
    "                    # Si kpts_xy tiene forma (N,2)\n",
    "                    keypoints_arr = np.hstack([kpts_xy, np.expand_dims(kpts_conf, axis=-1)])\n",
    "                else:\n",
    "                    print(f\"Formato de keypoints no esperado en frame {frame_count} para persona {person_idx}\")\n",
    "                    continue\n",
    "                \n",
    "                # Obtener dimensiones del frame\n",
    "                height, width, _ = frame.shape\n",
    "\n",
    "                # Iterar sobre cada keypoint\n",
    "                for kpt_idx, kpt in enumerate(keypoints_arr):\n",
    "                    x, y, conf = kpt\n",
    "\n",
    "                    if conf > umbral_conf:\n",
    "                        cv2.circle(frame, (int(x), int(y)), 5, (0, 255, 0), -1)\n",
    "                    \n",
    "                    csv_writer.writerow([frame_count, person_idx, kpt_idx, x, y, conf])\n",
    "\n",
    "    cv2.imshow('Detección de Pose con YOLOv8', frame)\n",
    "    frame_count += 1\n",
    "    if cv2.waitKey(1) & 0xFF == ord('q'):\n",
    "        break\n",
    "\n",
    "cap.release()\n",
    "cv2.destroyAllWindows()\n",
    "csv_file.close()\n",
    "print(\"Procesamiento completado.\")"
   ]
  }
 ],
 "metadata": {
  "kernelspec": {
   "display_name": "tesis",
   "language": "python",
   "name": "python3"
  },
  "language_info": {
   "codemirror_mode": {
    "name": "ipython",
    "version": 3
   },
   "file_extension": ".py",
   "mimetype": "text/x-python",
   "name": "python",
   "nbconvert_exporter": "python",
   "pygments_lexer": "ipython3",
   "version": "3.12.9"
  }
 },
 "nbformat": 4,
 "nbformat_minor": 5
}
